{
 "cells": [
  {
   "cell_type": "code",
   "execution_count": 1,
   "id": "a7834c74-00c5-4380-9401-abed800d4c4f",
   "metadata": {},
   "outputs": [],
   "source": [
    "# ── Standard library ────────────────────────────────────────────────────────────\n",
    "from collections import deque\n",
    "from typing import List, Tuple\n",
    "import os\n",
    "import time\n",
    "import tempfile\n",
    "\n",
    "# ── Third-party ────────────────────────────────────────────────────────────────\n",
    "import cv2\n",
    "import numpy as np\n",
    "\n",
    "import torch\n",
    "import torch.nn as nn\n",
    "import torchvision.transforms as T\n",
    "import torchvision.models as models\n",
    "\n",
    "from ultralytics import YOLO\n",
    "\n",
    "# ── Runtime tweaks (optional but handy) ────────────────────────────────────────\n",
    "cv2.setNumThreads(0)                 # reduce OpenCV/NumPy thread contention\n",
    "torch.backends.cudnn.benchmark = True  # speedup when input sizes are static\n",
    "device = torch.device(\"cuda\" if torch.cuda.is_available() else \"cpu\")"
   ]
  },
  {
   "cell_type": "code",
   "execution_count": 2,
   "id": "7b9471d7-91c6-4af8-a5b2-3f999083c225",
   "metadata": {},
   "outputs": [],
   "source": [
    "# ---------- YOLO detector wrapper ----------\n",
    "class YoloFaceDetector:\n",
    "    def __init__(self, weights=\"yolov12n-face.pt\", imgsz=640, conf=0.35, iou=0.5):\n",
    "        self.model = YOLO(weights)\n",
    "        self.imgsz = imgsz\n",
    "        self.conf = conf\n",
    "        self.iou = iou\n",
    "\n",
    "    def __call__(self, frame_bgr):\n",
    "        results = self.model.predict(\n",
    "            source=frame_bgr, imgsz=self.imgsz,\n",
    "            conf=self.conf, iou=self.iou, verbose=False, device=\"cpu\"\n",
    "        )[0]\n",
    "        dets = []\n",
    "        if results.boxes is not None and len(results.boxes) > 0:\n",
    "            xyxy = results.boxes.xyxy.cpu().numpy()\n",
    "            conf = results.boxes.conf.cpu().numpy()\n",
    "            for k in range(len(xyxy)):\n",
    "                x1, y1, x2, y2 = xyxy[k].tolist()\n",
    "                dets.append({\"bbox\": [x1, y1, x2, y2], \"conf\": float(conf[k])})\n",
    "        return dets\n",
    "\n"
   ]
  },
  {
   "cell_type": "code",
   "execution_count": 3,
   "id": "4b4cfebd-6d92-42fb-8e85-27646347a045",
   "metadata": {},
   "outputs": [],
   "source": [
    "source = \"data/dangoon.mp4\""
   ]
  },
  {
   "cell_type": "code",
   "execution_count": 6,
   "id": "19495d70-985a-477b-aec2-47aecc6314a8",
   "metadata": {},
   "outputs": [],
   "source": [
    "def main():\n",
    "    source = 0  # webcam\n",
    "    model = YOLO(\"models/yolov12n-face.pt\")\n",
    "    win = \"YOLO + BoT-SORT (Ultralytics, CPU)\"\n",
    "    cv2.namedWindow(win, cv2.WINDOW_NORMAL)\n",
    "\n",
    "    gen = model.track(\n",
    "        source=source,\n",
    "        tracker='botsort_custom.yaml',\n",
    "        stream=True,\n",
    "        imgsz=640,\n",
    "        conf=0.35,\n",
    "        iou=0.5,\n",
    "        device='cpu',\n",
    "        verbose=False,\n",
    "        persist=True\n",
    "    )\n",
    "\n",
    "    try:\n",
    "        for res in gen:\n",
    "            frame = res.orig_img\n",
    "            boxes = res.boxes\n",
    "            if boxes is not None and len(boxes) > 0:\n",
    "                xyxy = boxes.xyxy.cpu().numpy()\n",
    "                confs = boxes.conf.cpu().numpy()\n",
    "                ids = boxes.id.cpu().numpy() if boxes.id is not None else np.full((len(confs),), -1)\n",
    "\n",
    "                for k, (x1,y1,x2,y2) in enumerate(xyxy.astype(int)):\n",
    "                    tid  = int(ids[k]) if ids[k] != -1 else k\n",
    "                    cv2.rectangle(frame, (x1,y1), (x2,y2), (0,255,0), 2)\n",
    "                    y_text = max(0, y1 - 6)\n",
    "                    cv2.putText(frame, f\"ID {tid}\", (x1, y_text),\n",
    "                                cv2.FONT_HERSHEY_SIMPLEX, 0.6, (0,255,0), 2)\n",
    "\n",
    "            cv2.imshow(win, frame)\n",
    "            k = cv2.waitKey(1) & 0xFF\n",
    "            if k in (27, ord('q')) or cv2.getWindowProperty(win, cv2.WND_PROP_VISIBLE) < 1:\n",
    "                break\n",
    "    finally:\n",
    "        # Try to close Ultralytics internal loaders (releases the camera)\n",
    "        try:\n",
    "            predictor = getattr(model, \"predictor\", None)\n",
    "            if predictor is not None:\n",
    "                ds = getattr(predictor, \"dataset\", None)\n",
    "                if ds is not None and hasattr(ds, \"close\"):\n",
    "                    ds.close()\n",
    "        except Exception:\n",
    "            pass\n",
    "\n",
    "        cv2.destroyAllWindows()\n",
    "        # A few ticks help on some OSes (esp. macOS) to actually close the window\n",
    "        for _ in range(5):\n",
    "            cv2.waitKey(1)\n",
    "        time.sleep(0.05)"
   ]
  },
  {
   "cell_type": "code",
   "execution_count": 7,
   "id": "a40465e5-898f-439e-8917-d9ac4d559609",
   "metadata": {},
   "outputs": [
    {
     "name": "stderr",
     "output_type": "stream",
     "text": [
      "2025-10-17 17:38:33.330 python[42353:357382147] WARNING: AVCaptureDeviceTypeExternal is deprecated for Continuity Cameras. Please use AVCaptureDeviceTypeContinuityCamera and add NSCameraUseContinuityCameraDeviceType to your Info.plist.\n"
     ]
    },
    {
     "name": "stdout",
     "output_type": "stream",
     "text": [
      "1/1: 0... Success ✅ (inf frames of shape 1920x1080 at 30.00 FPS)\n",
      "\n"
     ]
    }
   ],
   "source": [
    "if __name__ == \"__main__\":\n",
    "    main()"
   ]
  },
  {
   "cell_type": "code",
   "execution_count": null,
   "id": "67b4288e-ddc3-4ff1-9765-f658ebd7aa95",
   "metadata": {},
   "outputs": [],
   "source": []
  },
  {
   "cell_type": "code",
   "execution_count": null,
   "id": "7200473d-2dbf-4dd9-aa37-0d288e948fc6",
   "metadata": {},
   "outputs": [],
   "source": []
  },
  {
   "cell_type": "code",
   "execution_count": null,
   "id": "82a79319-cc9e-4d2d-bec1-7387a7cea291",
   "metadata": {},
   "outputs": [],
   "source": []
  }
 ],
 "metadata": {
  "kernelspec": {
   "display_name": "tracking (Python 3.10)",
   "language": "python",
   "name": "tracking"
  },
  "language_info": {
   "codemirror_mode": {
    "name": "ipython",
    "version": 3
   },
   "file_extension": ".py",
   "mimetype": "text/x-python",
   "name": "python",
   "nbconvert_exporter": "python",
   "pygments_lexer": "ipython3",
   "version": "3.13.7"
  }
 },
 "nbformat": 4,
 "nbformat_minor": 5
}
