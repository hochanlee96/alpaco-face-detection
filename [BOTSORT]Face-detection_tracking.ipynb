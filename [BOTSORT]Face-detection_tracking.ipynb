{
 "cells": [
  {
   "cell_type": "code",
   "execution_count": 1,
   "id": "a7834c74-00c5-4380-9401-abed800d4c4f",
   "metadata": {},
   "outputs": [
    {
     "ename": "AttributeError",
     "evalue": "'MessageFactory' object has no attribute 'GetPrototype'",
     "output_type": "error",
     "traceback": [
      "\u001b[0;31m---------------------------------------------------------------------------\u001b[0m",
      "\u001b[0;31mAttributeError\u001b[0m                            Traceback (most recent call last)",
      "\u001b[0;31mAttributeError\u001b[0m: 'MessageFactory' object has no attribute 'GetPrototype'"
     ]
    }
   ],
   "source": [
    "import cv2, time, numpy as np, os, tempfile\n",
    "import numpy as np\n",
    "from collections import deque\n",
    "import torch\n",
    "import torch.nn as nn\n",
    "import torchvision.transforms as T\n",
    "import torchvision.models as models\n",
    "from typing import List, Tuple\n",
    "from ultralytics import YOLO"
   ]
  },
  {
   "cell_type": "code",
   "execution_count": 2,
   "id": "7b9471d7-91c6-4af8-a5b2-3f999083c225",
   "metadata": {},
   "outputs": [],
   "source": [
    "# ---------- YOLO detector wrapper ----------\n",
    "class YoloFaceDetector:\n",
    "    def __init__(self, weights=\"yolov12n-face.pt\", imgsz=640, conf=0.35, iou=0.5):\n",
    "        self.model = YOLO(weights)\n",
    "        self.imgsz = imgsz\n",
    "        self.conf = conf\n",
    "        self.iou = iou\n",
    "\n",
    "    def __call__(self, frame_bgr):\n",
    "        results = self.model.predict(\n",
    "            source=frame_bgr, imgsz=self.imgsz,\n",
    "            conf=self.conf, iou=self.iou, verbose=False, device=\"cpu\"\n",
    "        )[0]\n",
    "        dets = []\n",
    "        if results.boxes is not None and len(results.boxes) > 0:\n",
    "            xyxy = results.boxes.xyxy.cpu().numpy()\n",
    "            conf = results.boxes.conf.cpu().numpy()\n",
    "            for k in range(len(xyxy)):\n",
    "                x1, y1, x2, y2 = xyxy[k].tolist()\n",
    "                dets.append({\"bbox\": [x1, y1, x2, y2], \"conf\": float(conf[k])})\n",
    "        return dets\n",
    "\n"
   ]
  },
  {
   "cell_type": "code",
   "execution_count": 26,
   "id": "4b4cfebd-6d92-42fb-8e85-27646347a045",
   "metadata": {},
   "outputs": [],
   "source": [
    "source = \"data/dangoon.mp4\""
   ]
  },
  {
   "cell_type": "code",
   "execution_count": 58,
   "id": "19495d70-985a-477b-aec2-47aecc6314a8",
   "metadata": {},
   "outputs": [],
   "source": [
    "def main():\n",
    "    model = YOLO(\"yolov12n-face.pt\")   # your face weights\n",
    "    # model = YOLO(\"yolo11n-pose.pt\")   # your face weights\n",
    "    win = \"YOLO + BoT-SORT (Ultralytics, CPU)\"\n",
    "    cv2.namedWindow(win, cv2.WINDOW_NORMAL)\n",
    "\n",
    "    try:\n",
    "        for res in model.track(\n",
    "            source=source,\n",
    "            # source=0,\n",
    "            tracker='botsort_custom.yaml',   # ← built-in config shipped with your installed version\n",
    "            stream=True,\n",
    "            imgsz=640,\n",
    "            conf=0.35,\n",
    "            iou=0.5,\n",
    "            device='cpu',\n",
    "            verbose=False,\n",
    "            persist=True\n",
    "        ):\n",
    "            frame = res.orig_img\n",
    "            boxes = res.boxes\n",
    "            if boxes is not None and len(boxes) > 0:\n",
    "                xyxy = boxes.xyxy.cpu().numpy()\n",
    "                confs = boxes.conf.cpu().numpy()\n",
    "                ids = boxes.id.cpu().numpy() if boxes.id is not None else np.full((len(confs),), -1)\n",
    "                for k, (x1,y1,x2,y2) in enumerate(xyxy.astype(int)):\n",
    "                    tid  = int(ids[k]) if ids[k] != -1 else k\n",
    "                    conf = float(confs[k])\n",
    "                    cv2.rectangle(frame, (x1,y1), (x2,y2), (0,255,0), 2)\n",
    "                    y_text = max(0, y1 - 6)\n",
    "                    cv2.putText(frame, f\"ID {tid}\", (x1, y_text),\n",
    "                                cv2.FONT_HERSHEY_SIMPLEX, 0.6, (0,255,0), 2)\n",
    "                    # txt = f\"Conf {conf:.2f}\"\n",
    "                    # (tw,_),_ = cv2.getTextSize(txt, cv2.FONT_HERSHEY_SIMPLEX, 0.6, 2)\n",
    "                    # cv2.putText(frame, txt, (x2 - tw, y_text),\n",
    "                    #             cv2.FONT_HERSHEY_SIMPLEX, 0.6, (0,255,255), 2)\n",
    "            cv2.imshow(win, frame)\n",
    "            k = cv2.waitKey(1) & 0xFF\n",
    "            if k in (27, ord('q')) or cv2.getWindowProperty(win, cv2.WND_PROP_VISIBLE) < 1:\n",
    "                break\n",
    "    finally:\n",
    "        cv2.destroyWindow(win)\n",
    "        for _ in range(3): cv2.waitKey(1)\n",
    "        time.sleep(0.05)\n"
   ]
  },
  {
   "cell_type": "code",
   "execution_count": 60,
   "id": "a40465e5-898f-439e-8917-d9ac4d559609",
   "metadata": {},
   "outputs": [],
   "source": [
    "if __name__ == \"__main__\":\n",
    "    main()"
   ]
  },
  {
   "cell_type": "code",
   "execution_count": null,
   "id": "67b4288e-ddc3-4ff1-9765-f658ebd7aa95",
   "metadata": {},
   "outputs": [],
   "source": []
  },
  {
   "cell_type": "code",
   "execution_count": null,
   "id": "7200473d-2dbf-4dd9-aa37-0d288e948fc6",
   "metadata": {},
   "outputs": [],
   "source": []
  },
  {
   "cell_type": "code",
   "execution_count": null,
   "id": "82a79319-cc9e-4d2d-bec1-7387a7cea291",
   "metadata": {},
   "outputs": [],
   "source": []
  }
 ],
 "metadata": {
  "kernelspec": {
   "display_name": "Python (face-detection)",
   "language": "python",
   "name": "face-detection"
  },
  "language_info": {
   "codemirror_mode": {
    "name": "ipython",
    "version": 3
   },
   "file_extension": ".py",
   "mimetype": "text/x-python",
   "name": "python",
   "nbconvert_exporter": "python",
   "pygments_lexer": "ipython3",
   "version": "3.10.15"
  }
 },
 "nbformat": 4,
 "nbformat_minor": 5
}
